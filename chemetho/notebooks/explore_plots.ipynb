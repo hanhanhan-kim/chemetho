version https://git-lfs.github.com/spec/v1
oid sha256:43f00891afbef94ceac3ee60e52cd08e0319ff6fc5a7d01cb30792a28e8cd282
size 38924847
