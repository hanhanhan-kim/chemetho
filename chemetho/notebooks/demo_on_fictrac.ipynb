version https://git-lfs.github.com/spec/v1
oid sha256:115acc342d526d34ca7b50c04e31bf09e20bdabac82b644b59b07a147d899b21
size 19323845
