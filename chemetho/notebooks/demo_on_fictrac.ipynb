version https://git-lfs.github.com/spec/v1
oid sha256:ef9753068e77575c0f6869dccd1b682b6f65bbdc44af1ee647838b27e2a9aaad
size 19323844
