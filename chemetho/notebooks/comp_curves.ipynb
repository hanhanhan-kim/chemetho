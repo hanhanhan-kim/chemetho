version https://git-lfs.github.com/spec/v1
oid sha256:96f41c94bfd0b8665dbbb5912264d55e3a0043c3addf9e2ae885a1f5cf7e5717
size 42575462
