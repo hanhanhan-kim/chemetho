version https://git-lfs.github.com/spec/v1
oid sha256:5db902ffd531e8b302dfc0a03302904074431f35a3dc894225e327b6b4f8265f
size 12517195
