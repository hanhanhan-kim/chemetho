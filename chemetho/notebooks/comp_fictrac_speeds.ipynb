version https://git-lfs.github.com/spec/v1
oid sha256:1aba2bddd5152a4240089e422ac451a560c5e864a1b3623068bdd48397811234
size 20086427
